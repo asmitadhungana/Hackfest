{
 "cells": [
  {
   "cell_type": "code",
   "execution_count": 1,
   "metadata": {},
   "outputs": [
    {
     "data": {
      "text/html": [
       "<style>.container { width:100% !important; }</style>"
      ],
      "text/plain": [
       "<IPython.core.display.HTML object>"
      ]
     },
     "metadata": {},
     "output_type": "display_data"
    }
   ],
   "source": [
    "from IPython.core.display import display, HTML\n",
    "display(HTML(\"<style>.container { width:100% !important; }</style>\"))"
   ]
  },
  {
   "cell_type": "code",
   "execution_count": 2,
   "metadata": {},
   "outputs": [],
   "source": [
    "from iconsdk.exception import JSONRPCException\n",
    "from iconsdk.libs.in_memory_zip import gen_deploy_data_content\n",
    "from iconsdk.icon_service import IconService\n",
    "from iconsdk.providers.http_provider import HTTPProvider\n",
    "from iconsdk.builder.transaction_builder import CallTransactionBuilder, TransactionBuilder, DeployTransactionBuilder\n",
    "from iconsdk.builder.call_builder import CallBuilder\n",
    "from iconsdk.signed_transaction import SignedTransaction\n",
    "from iconsdk.wallet.wallet import KeyWallet\n",
    "from iconsdk.utils.convert_type import convert_hex_str_to_int\n",
    "import requests\n",
    "\n",
    "from repeater import retry\n",
    "\n",
    "NONCE = 100\n",
    "GOVERNANCE_ADDRESS = \"cx0000000000000000000000000000000000000000\"\n",
    "\n",
    "\n",
    "@retry(JSONRPCException, tries=10, delay=1, back_off=2)\n",
    "def get_tx_result(_tx_hash):\n",
    "    tx_result = icon_service.get_transaction_result(_tx_hash)\n",
    "    return tx_result"
   ]
  },
  {
   "cell_type": "markdown",
   "metadata": {},
   "source": [
    "Wallet Import"
   ]
  },
  {
   "cell_type": "code",
   "execution_count": 3,
   "metadata": {},
   "outputs": [],
   "source": [
    "# Mainnet\n",
    "# icon_service = IconService(HTTPProvider(\"https://ctz.solidwallet.io\", 3))\n",
    "# NID = 1\n",
    "\n",
    "# Euljiro\n",
    "# icon_service = IconService(HTTPProvider(\"https://test-ctz.solidwallet.io\",3))\n",
    "# NID = 2\n",
    "\n",
    "# Yeouido\n",
    "icon_service = IconService(HTTPProvider(\"https://bicon.net.solidwallet.io\", 3))\n",
    "NID = 3\n",
    "\n",
    "# Pagoda\n",
    "# icon_service = IconService(HTTPProvider(\"https://zicon.net.solidwallet.io\", 3))\n",
    "# NID = 80\n",
    "\n",
    "# Custom\n",
    "# icon_service = IconService(HTTPProvider(\"http://127.0.0.1:9000/\", 3))"
   ]
  },
  {
   "cell_type": "markdown",
   "metadata": {},
   "source": [
    "### Load wallet using Keystore file"
   ]
  },
  {
   "cell_type": "code",
   "execution_count": 4,
   "metadata": {},
   "outputs": [
    {
     "name": "stderr",
     "output_type": "stream",
     "text": [
      "Raised KeyStoreException while loading the wallet by the keystore file. Error message: function/symbol 'SHA256_init' not found in library '/home/swopnil/anaconda3/envs/venv2/lib/python3.7/site-packages/Crypto/Util/../Hash/_SHA256.cpython-37m-x86_64-linux-gnu.so': /home/swopnil/anaconda3/envs/venv2/lib/python3.7/site-packages/Crypto/Util/../Hash/_SHA256.cpython-37m-x86_64-linux-gnu.so: undefined symbol: SHA256_init\n",
      "Traceback (most recent call last):\n",
      "  File \"/home/swopnil/anaconda3/envs/venv2/lib/python3.7/site-packages/iconsdk/wallet/wallet.py\", line 102, in load\n",
      "    private_key: bytes = extract_key_from_keyfile(file, bytes(password, 'utf-8'))\n",
      "  File \"/home/swopnil/anaconda3/envs/venv2/lib/python3.7/site-packages/eth_keyfile/keyfile.py\", line 56, in extract_key_from_keyfile\n",
      "    private_key = decode_keyfile_json(keyfile_json, password)\n",
      "  File \"/home/swopnil/anaconda3/envs/venv2/lib/python3.7/site-packages/eth_keyfile/keyfile.py\", line 49, in decode_keyfile_json\n",
      "    return _decode_keyfile_json_v3(keyfile_json, password)\n",
      "  File \"/home/swopnil/anaconda3/envs/venv2/lib/python3.7/site-packages/eth_keyfile/keyfile.py\", line 159, in _decode_keyfile_json_v3\n",
      "    derived_key = _derive_scrypt_key(crypto, password)\n",
      "  File \"/home/swopnil/anaconda3/envs/venv2/lib/python3.7/site-packages/eth_keyfile/keyfile.py\", line 213, in _derive_scrypt_key\n",
      "    buflen=buflen,\n",
      "  File \"/home/swopnil/anaconda3/envs/venv2/lib/python3.7/site-packages/eth_keyfile/keyfile.py\", line 226, in _scrypt_hash\n",
      "    num_keys=1,\n",
      "  File \"/home/swopnil/anaconda3/envs/venv2/lib/python3.7/site-packages/Crypto/Protocol/KDF.py\", line 385, in scrypt\n",
      "    stage_1 = PBKDF2(password, salt, p * 128 * r, 1, prf=prf_hmac_sha256)\n",
      "  File \"/home/swopnil/anaconda3/envs/venv2/lib/python3.7/site-packages/Crypto/Protocol/KDF.py\", line 162, in PBKDF2\n",
      "    s = [ prf(password, salt + struct.pack(\">I\", i)) ] * 2\n",
      "  File \"/home/swopnil/anaconda3/envs/venv2/lib/python3.7/site-packages/Crypto/Protocol/KDF.py\", line 383, in <lambda>\n",
      "    prf_hmac_sha256 = lambda p, s: HMAC.new(p, s, SHA256).digest()\n",
      "  File \"/home/swopnil/anaconda3/envs/venv2/lib/python3.7/site-packages/Crypto/Hash/HMAC.py\", line 213, in new\n",
      "    return HMAC(key, msg, digestmod)\n",
      "  File \"/home/swopnil/anaconda3/envs/venv2/lib/python3.7/site-packages/Crypto/Hash/HMAC.py\", line 86, in __init__\n",
      "    self._inner = digestmod.new(key_0_ipad)\n",
      "  File \"/home/swopnil/anaconda3/envs/venv2/lib/python3.7/site-packages/Crypto/Hash/SHA256.py\", line 158, in new\n",
      "    return SHA256Hash().new(data)\n",
      "  File \"/home/swopnil/anaconda3/envs/venv2/lib/python3.7/site-packages/Crypto/Hash/SHA256.py\", line 73, in __init__\n",
      "    result = _raw_sha256_lib.SHA256_init(state.address_of())\n",
      "  File \"/home/swopnil/anaconda3/envs/venv2/lib/python3.7/site-packages/cffi/api.py\", line 912, in __getattr__\n",
      "    make_accessor(name)\n",
      "  File \"/home/swopnil/anaconda3/envs/venv2/lib/python3.7/site-packages/cffi/api.py\", line 908, in make_accessor\n",
      "    accessors[name](name)\n",
      "  File \"/home/swopnil/anaconda3/envs/venv2/lib/python3.7/site-packages/cffi/api.py\", line 838, in accessor_function\n",
      "    value = backendlib.load_function(BType, name)\n",
      "AttributeError: function/symbol 'SHA256_init' not found in library '/home/swopnil/anaconda3/envs/venv2/lib/python3.7/site-packages/Crypto/Util/../Hash/_SHA256.cpython-37m-x86_64-linux-gnu.so': /home/swopnil/anaconda3/envs/venv2/lib/python3.7/site-packages/Crypto/Util/../Hash/_SHA256.cpython-37m-x86_64-linux-gnu.so: undefined symbol: SHA256_init\n"
     ]
    },
    {
     "ename": "KeyStoreException",
     "evalue": "keystore file error.function/symbol 'SHA256_init' not found in library '/home/swopnil/anaconda3/envs/venv2/lib/python3.7/site-packages/Crypto/Util/../Hash/_SHA256.cpython-37m-x86_64-linux-gnu.so': /home/swopnil/anaconda3/envs/venv2/lib/python3.7/site-packages/Crypto/Util/../Hash/_SHA256.cpython-37m-x86_64-linux-gnu.so: undefined symbol: SHA256_init (Key store error)",
     "output_type": "error",
     "traceback": [
      "\u001b[0;31m---------------------------------------------------------------------------\u001b[0m",
      "\u001b[0;31mAttributeError\u001b[0m                            Traceback (most recent call last)",
      "\u001b[0;32m~/anaconda3/envs/venv2/lib/python3.7/site-packages/iconsdk/wallet/wallet.py\u001b[0m in \u001b[0;36mload\u001b[0;34m(file_path, password)\u001b[0m\n\u001b[1;32m    101\u001b[0m             \u001b[0;32mwith\u001b[0m \u001b[0mopen\u001b[0m\u001b[0;34m(\u001b[0m\u001b[0mfile_path\u001b[0m\u001b[0;34m,\u001b[0m \u001b[0;34m'rb'\u001b[0m\u001b[0;34m)\u001b[0m \u001b[0;32mas\u001b[0m \u001b[0mfile\u001b[0m\u001b[0;34m:\u001b[0m\u001b[0;34m\u001b[0m\u001b[0;34m\u001b[0m\u001b[0m\n\u001b[0;32m--> 102\u001b[0;31m                 \u001b[0mprivate_key\u001b[0m\u001b[0;34m:\u001b[0m \u001b[0mbytes\u001b[0m \u001b[0;34m=\u001b[0m \u001b[0mextract_key_from_keyfile\u001b[0m\u001b[0;34m(\u001b[0m\u001b[0mfile\u001b[0m\u001b[0;34m,\u001b[0m \u001b[0mbytes\u001b[0m\u001b[0;34m(\u001b[0m\u001b[0mpassword\u001b[0m\u001b[0;34m,\u001b[0m \u001b[0;34m'utf-8'\u001b[0m\u001b[0;34m)\u001b[0m\u001b[0;34m)\u001b[0m\u001b[0;34m\u001b[0m\u001b[0;34m\u001b[0m\u001b[0m\n\u001b[0m\u001b[1;32m    103\u001b[0m                 \u001b[0mprivate_key_object\u001b[0m \u001b[0;34m=\u001b[0m \u001b[0mPrivateKey\u001b[0m\u001b[0;34m(\u001b[0m\u001b[0mprivate_key\u001b[0m\u001b[0;34m)\u001b[0m\u001b[0;34m\u001b[0m\u001b[0;34m\u001b[0m\u001b[0m\n",
      "\u001b[0;32m~/anaconda3/envs/venv2/lib/python3.7/site-packages/eth_keyfile/keyfile.py\u001b[0m in \u001b[0;36mextract_key_from_keyfile\u001b[0;34m(path_or_file_obj, password)\u001b[0m\n\u001b[1;32m     55\u001b[0m     \u001b[0mkeyfile_json\u001b[0m \u001b[0;34m=\u001b[0m \u001b[0mload_keyfile\u001b[0m\u001b[0;34m(\u001b[0m\u001b[0mpath_or_file_obj\u001b[0m\u001b[0;34m)\u001b[0m\u001b[0;34m\u001b[0m\u001b[0;34m\u001b[0m\u001b[0m\n\u001b[0;32m---> 56\u001b[0;31m     \u001b[0mprivate_key\u001b[0m \u001b[0;34m=\u001b[0m \u001b[0mdecode_keyfile_json\u001b[0m\u001b[0;34m(\u001b[0m\u001b[0mkeyfile_json\u001b[0m\u001b[0;34m,\u001b[0m \u001b[0mpassword\u001b[0m\u001b[0;34m)\u001b[0m\u001b[0;34m\u001b[0m\u001b[0;34m\u001b[0m\u001b[0m\n\u001b[0m\u001b[1;32m     57\u001b[0m     \u001b[0;32mreturn\u001b[0m \u001b[0mprivate_key\u001b[0m\u001b[0;34m\u001b[0m\u001b[0;34m\u001b[0m\u001b[0m\n",
      "\u001b[0;32m~/anaconda3/envs/venv2/lib/python3.7/site-packages/eth_keyfile/keyfile.py\u001b[0m in \u001b[0;36mdecode_keyfile_json\u001b[0;34m(raw_keyfile_json, password)\u001b[0m\n\u001b[1;32m     48\u001b[0m     \u001b[0;32mif\u001b[0m \u001b[0mversion\u001b[0m \u001b[0;34m==\u001b[0m \u001b[0;36m3\u001b[0m\u001b[0;34m:\u001b[0m\u001b[0;34m\u001b[0m\u001b[0;34m\u001b[0m\u001b[0m\n\u001b[0;32m---> 49\u001b[0;31m         \u001b[0;32mreturn\u001b[0m \u001b[0m_decode_keyfile_json_v3\u001b[0m\u001b[0;34m(\u001b[0m\u001b[0mkeyfile_json\u001b[0m\u001b[0;34m,\u001b[0m \u001b[0mpassword\u001b[0m\u001b[0;34m)\u001b[0m\u001b[0;34m\u001b[0m\u001b[0;34m\u001b[0m\u001b[0m\n\u001b[0m\u001b[1;32m     50\u001b[0m     \u001b[0;32melse\u001b[0m\u001b[0;34m:\u001b[0m\u001b[0;34m\u001b[0m\u001b[0;34m\u001b[0m\u001b[0m\n",
      "\u001b[0;32m~/anaconda3/envs/venv2/lib/python3.7/site-packages/eth_keyfile/keyfile.py\u001b[0m in \u001b[0;36m_decode_keyfile_json_v3\u001b[0;34m(keyfile_json, password)\u001b[0m\n\u001b[1;32m    158\u001b[0m     \u001b[0;32melif\u001b[0m \u001b[0mkdf\u001b[0m \u001b[0;34m==\u001b[0m \u001b[0;34m'scrypt'\u001b[0m\u001b[0;34m:\u001b[0m\u001b[0;34m\u001b[0m\u001b[0;34m\u001b[0m\u001b[0m\n\u001b[0;32m--> 159\u001b[0;31m         \u001b[0mderived_key\u001b[0m \u001b[0;34m=\u001b[0m \u001b[0m_derive_scrypt_key\u001b[0m\u001b[0;34m(\u001b[0m\u001b[0mcrypto\u001b[0m\u001b[0;34m,\u001b[0m \u001b[0mpassword\u001b[0m\u001b[0;34m)\u001b[0m\u001b[0;34m\u001b[0m\u001b[0;34m\u001b[0m\u001b[0m\n\u001b[0m\u001b[1;32m    160\u001b[0m     \u001b[0;32melse\u001b[0m\u001b[0;34m:\u001b[0m\u001b[0;34m\u001b[0m\u001b[0;34m\u001b[0m\u001b[0m\n",
      "\u001b[0;32m~/anaconda3/envs/venv2/lib/python3.7/site-packages/eth_keyfile/keyfile.py\u001b[0m in \u001b[0;36m_derive_scrypt_key\u001b[0;34m(crypto, password)\u001b[0m\n\u001b[1;32m    212\u001b[0m         \u001b[0mp\u001b[0m\u001b[0;34m=\u001b[0m\u001b[0mp\u001b[0m\u001b[0;34m,\u001b[0m\u001b[0;34m\u001b[0m\u001b[0;34m\u001b[0m\u001b[0m\n\u001b[0;32m--> 213\u001b[0;31m         \u001b[0mbuflen\u001b[0m\u001b[0;34m=\u001b[0m\u001b[0mbuflen\u001b[0m\u001b[0;34m,\u001b[0m\u001b[0;34m\u001b[0m\u001b[0;34m\u001b[0m\u001b[0m\n\u001b[0m\u001b[1;32m    214\u001b[0m     )\n",
      "\u001b[0;32m~/anaconda3/envs/venv2/lib/python3.7/site-packages/eth_keyfile/keyfile.py\u001b[0m in \u001b[0;36m_scrypt_hash\u001b[0;34m(password, salt, n, r, p, buflen)\u001b[0m\n\u001b[1;32m    225\u001b[0m         \u001b[0mp\u001b[0m\u001b[0;34m=\u001b[0m\u001b[0mp\u001b[0m\u001b[0;34m,\u001b[0m\u001b[0;34m\u001b[0m\u001b[0;34m\u001b[0m\u001b[0m\n\u001b[0;32m--> 226\u001b[0;31m         \u001b[0mnum_keys\u001b[0m\u001b[0;34m=\u001b[0m\u001b[0;36m1\u001b[0m\u001b[0;34m,\u001b[0m\u001b[0;34m\u001b[0m\u001b[0;34m\u001b[0m\u001b[0m\n\u001b[0m\u001b[1;32m    227\u001b[0m     )\n",
      "\u001b[0;32m~/anaconda3/envs/venv2/lib/python3.7/site-packages/Crypto/Protocol/KDF.py\u001b[0m in \u001b[0;36mscrypt\u001b[0;34m(password, salt, key_len, N, r, p, num_keys)\u001b[0m\n\u001b[1;32m    384\u001b[0m \u001b[0;34m\u001b[0m\u001b[0m\n\u001b[0;32m--> 385\u001b[0;31m     \u001b[0mstage_1\u001b[0m \u001b[0;34m=\u001b[0m \u001b[0mPBKDF2\u001b[0m\u001b[0;34m(\u001b[0m\u001b[0mpassword\u001b[0m\u001b[0;34m,\u001b[0m \u001b[0msalt\u001b[0m\u001b[0;34m,\u001b[0m \u001b[0mp\u001b[0m \u001b[0;34m*\u001b[0m \u001b[0;36m128\u001b[0m \u001b[0;34m*\u001b[0m \u001b[0mr\u001b[0m\u001b[0;34m,\u001b[0m \u001b[0;36m1\u001b[0m\u001b[0;34m,\u001b[0m \u001b[0mprf\u001b[0m\u001b[0;34m=\u001b[0m\u001b[0mprf_hmac_sha256\u001b[0m\u001b[0;34m)\u001b[0m\u001b[0;34m\u001b[0m\u001b[0;34m\u001b[0m\u001b[0m\n\u001b[0m\u001b[1;32m    386\u001b[0m \u001b[0;34m\u001b[0m\u001b[0m\n",
      "\u001b[0;32m~/anaconda3/envs/venv2/lib/python3.7/site-packages/Crypto/Protocol/KDF.py\u001b[0m in \u001b[0;36mPBKDF2\u001b[0;34m(password, salt, dkLen, count, prf, hmac_hash_module)\u001b[0m\n\u001b[1;32m    161\u001b[0m         \u001b[0;32mwhile\u001b[0m \u001b[0mlen\u001b[0m\u001b[0;34m(\u001b[0m\u001b[0mkey\u001b[0m\u001b[0;34m)\u001b[0m \u001b[0;34m<\u001b[0m \u001b[0mdkLen\u001b[0m\u001b[0;34m:\u001b[0m\u001b[0;34m\u001b[0m\u001b[0;34m\u001b[0m\u001b[0m\n\u001b[0;32m--> 162\u001b[0;31m             \u001b[0ms\u001b[0m \u001b[0;34m=\u001b[0m \u001b[0;34m[\u001b[0m \u001b[0mprf\u001b[0m\u001b[0;34m(\u001b[0m\u001b[0mpassword\u001b[0m\u001b[0;34m,\u001b[0m \u001b[0msalt\u001b[0m \u001b[0;34m+\u001b[0m \u001b[0mstruct\u001b[0m\u001b[0;34m.\u001b[0m\u001b[0mpack\u001b[0m\u001b[0;34m(\u001b[0m\u001b[0;34m\">I\"\u001b[0m\u001b[0;34m,\u001b[0m \u001b[0mi\u001b[0m\u001b[0;34m)\u001b[0m\u001b[0;34m)\u001b[0m \u001b[0;34m]\u001b[0m \u001b[0;34m*\u001b[0m \u001b[0;36m2\u001b[0m\u001b[0;34m\u001b[0m\u001b[0;34m\u001b[0m\u001b[0m\n\u001b[0m\u001b[1;32m    163\u001b[0m             \u001b[0mkey\u001b[0m \u001b[0;34m+=\u001b[0m \u001b[0mreduce\u001b[0m\u001b[0;34m(\u001b[0m\u001b[0mstrxor\u001b[0m\u001b[0;34m,\u001b[0m \u001b[0;34m(\u001b[0m\u001b[0mlink\u001b[0m\u001b[0;34m(\u001b[0m\u001b[0ms\u001b[0m\u001b[0;34m)\u001b[0m \u001b[0;32mfor\u001b[0m \u001b[0mj\u001b[0m \u001b[0;32min\u001b[0m \u001b[0mrange\u001b[0m\u001b[0;34m(\u001b[0m\u001b[0mcount\u001b[0m\u001b[0;34m)\u001b[0m\u001b[0;34m)\u001b[0m \u001b[0;34m)\u001b[0m\u001b[0;34m\u001b[0m\u001b[0;34m\u001b[0m\u001b[0m\n",
      "\u001b[0;32m~/anaconda3/envs/venv2/lib/python3.7/site-packages/Crypto/Protocol/KDF.py\u001b[0m in \u001b[0;36m<lambda>\u001b[0;34m(p, s)\u001b[0m\n\u001b[1;32m    382\u001b[0m \u001b[0;34m\u001b[0m\u001b[0m\n\u001b[0;32m--> 383\u001b[0;31m     \u001b[0mprf_hmac_sha256\u001b[0m \u001b[0;34m=\u001b[0m \u001b[0;32mlambda\u001b[0m \u001b[0mp\u001b[0m\u001b[0;34m,\u001b[0m \u001b[0ms\u001b[0m\u001b[0;34m:\u001b[0m \u001b[0mHMAC\u001b[0m\u001b[0;34m.\u001b[0m\u001b[0mnew\u001b[0m\u001b[0;34m(\u001b[0m\u001b[0mp\u001b[0m\u001b[0;34m,\u001b[0m \u001b[0ms\u001b[0m\u001b[0;34m,\u001b[0m \u001b[0mSHA256\u001b[0m\u001b[0;34m)\u001b[0m\u001b[0;34m.\u001b[0m\u001b[0mdigest\u001b[0m\u001b[0;34m(\u001b[0m\u001b[0;34m)\u001b[0m\u001b[0;34m\u001b[0m\u001b[0;34m\u001b[0m\u001b[0m\n\u001b[0m\u001b[1;32m    384\u001b[0m \u001b[0;34m\u001b[0m\u001b[0m\n",
      "\u001b[0;32m~/anaconda3/envs/venv2/lib/python3.7/site-packages/Crypto/Hash/HMAC.py\u001b[0m in \u001b[0;36mnew\u001b[0;34m(key, msg, digestmod)\u001b[0m\n\u001b[1;32m    212\u001b[0m \u001b[0;34m\u001b[0m\u001b[0m\n\u001b[0;32m--> 213\u001b[0;31m     \u001b[0;32mreturn\u001b[0m \u001b[0mHMAC\u001b[0m\u001b[0;34m(\u001b[0m\u001b[0mkey\u001b[0m\u001b[0;34m,\u001b[0m \u001b[0mmsg\u001b[0m\u001b[0;34m,\u001b[0m \u001b[0mdigestmod\u001b[0m\u001b[0;34m)\u001b[0m\u001b[0;34m\u001b[0m\u001b[0;34m\u001b[0m\u001b[0m\n\u001b[0m",
      "\u001b[0;32m~/anaconda3/envs/venv2/lib/python3.7/site-packages/Crypto/Hash/HMAC.py\u001b[0m in \u001b[0;36m__init__\u001b[0;34m(self, key, msg, digestmod)\u001b[0m\n\u001b[1;32m     85\u001b[0m         \u001b[0;31m# Start step 5 and 6\u001b[0m\u001b[0;34m\u001b[0m\u001b[0;34m\u001b[0m\u001b[0;34m\u001b[0m\u001b[0m\n\u001b[0;32m---> 86\u001b[0;31m         \u001b[0mself\u001b[0m\u001b[0;34m.\u001b[0m\u001b[0m_inner\u001b[0m \u001b[0;34m=\u001b[0m \u001b[0mdigestmod\u001b[0m\u001b[0;34m.\u001b[0m\u001b[0mnew\u001b[0m\u001b[0;34m(\u001b[0m\u001b[0mkey_0_ipad\u001b[0m\u001b[0;34m)\u001b[0m\u001b[0;34m\u001b[0m\u001b[0;34m\u001b[0m\u001b[0m\n\u001b[0m\u001b[1;32m     87\u001b[0m         \u001b[0mself\u001b[0m\u001b[0;34m.\u001b[0m\u001b[0m_inner\u001b[0m\u001b[0;34m.\u001b[0m\u001b[0mupdate\u001b[0m\u001b[0;34m(\u001b[0m\u001b[0mmsg\u001b[0m\u001b[0;34m)\u001b[0m\u001b[0;34m\u001b[0m\u001b[0;34m\u001b[0m\u001b[0m\n",
      "\u001b[0;32m~/anaconda3/envs/venv2/lib/python3.7/site-packages/Crypto/Hash/SHA256.py\u001b[0m in \u001b[0;36mnew\u001b[0;34m(data)\u001b[0m\n\u001b[1;32m    157\u001b[0m \u001b[0;34m\u001b[0m\u001b[0m\n\u001b[0;32m--> 158\u001b[0;31m     \u001b[0;32mreturn\u001b[0m \u001b[0mSHA256Hash\u001b[0m\u001b[0;34m(\u001b[0m\u001b[0;34m)\u001b[0m\u001b[0;34m.\u001b[0m\u001b[0mnew\u001b[0m\u001b[0;34m(\u001b[0m\u001b[0mdata\u001b[0m\u001b[0;34m)\u001b[0m\u001b[0;34m\u001b[0m\u001b[0;34m\u001b[0m\u001b[0m\n\u001b[0m\u001b[1;32m    159\u001b[0m \u001b[0;34m\u001b[0m\u001b[0m\n",
      "\u001b[0;32m~/anaconda3/envs/venv2/lib/python3.7/site-packages/Crypto/Hash/SHA256.py\u001b[0m in \u001b[0;36m__init__\u001b[0;34m(self, data)\u001b[0m\n\u001b[1;32m     72\u001b[0m         \u001b[0mstate\u001b[0m \u001b[0;34m=\u001b[0m \u001b[0mVoidPointer\u001b[0m\u001b[0;34m(\u001b[0m\u001b[0;34m)\u001b[0m\u001b[0;34m\u001b[0m\u001b[0;34m\u001b[0m\u001b[0m\n\u001b[0;32m---> 73\u001b[0;31m         \u001b[0mresult\u001b[0m \u001b[0;34m=\u001b[0m \u001b[0m_raw_sha256_lib\u001b[0m\u001b[0;34m.\u001b[0m\u001b[0mSHA256_init\u001b[0m\u001b[0;34m(\u001b[0m\u001b[0mstate\u001b[0m\u001b[0;34m.\u001b[0m\u001b[0maddress_of\u001b[0m\u001b[0;34m(\u001b[0m\u001b[0;34m)\u001b[0m\u001b[0;34m)\u001b[0m\u001b[0;34m\u001b[0m\u001b[0;34m\u001b[0m\u001b[0m\n\u001b[0m\u001b[1;32m     74\u001b[0m         \u001b[0;32mif\u001b[0m \u001b[0mresult\u001b[0m\u001b[0;34m:\u001b[0m\u001b[0;34m\u001b[0m\u001b[0;34m\u001b[0m\u001b[0m\n",
      "\u001b[0;32m~/anaconda3/envs/venv2/lib/python3.7/site-packages/cffi/api.py\u001b[0m in \u001b[0;36m__getattr__\u001b[0;34m(self, name)\u001b[0m\n\u001b[1;32m    911\u001b[0m         \u001b[0;32mdef\u001b[0m \u001b[0m__getattr__\u001b[0m\u001b[0;34m(\u001b[0m\u001b[0mself\u001b[0m\u001b[0;34m,\u001b[0m \u001b[0mname\u001b[0m\u001b[0;34m)\u001b[0m\u001b[0;34m:\u001b[0m\u001b[0;34m\u001b[0m\u001b[0;34m\u001b[0m\u001b[0m\n\u001b[0;32m--> 912\u001b[0;31m             \u001b[0mmake_accessor\u001b[0m\u001b[0;34m(\u001b[0m\u001b[0mname\u001b[0m\u001b[0;34m)\u001b[0m\u001b[0;34m\u001b[0m\u001b[0;34m\u001b[0m\u001b[0m\n\u001b[0m\u001b[1;32m    913\u001b[0m             \u001b[0;32mreturn\u001b[0m \u001b[0mgetattr\u001b[0m\u001b[0;34m(\u001b[0m\u001b[0mself\u001b[0m\u001b[0;34m,\u001b[0m \u001b[0mname\u001b[0m\u001b[0;34m)\u001b[0m\u001b[0;34m\u001b[0m\u001b[0;34m\u001b[0m\u001b[0m\n",
      "\u001b[0;32m~/anaconda3/envs/venv2/lib/python3.7/site-packages/cffi/api.py\u001b[0m in \u001b[0;36mmake_accessor\u001b[0;34m(name)\u001b[0m\n\u001b[1;32m    907\u001b[0m                     \u001b[0;32mraise\u001b[0m \u001b[0mAttributeError\u001b[0m\u001b[0;34m(\u001b[0m\u001b[0mname\u001b[0m\u001b[0;34m)\u001b[0m\u001b[0;34m\u001b[0m\u001b[0;34m\u001b[0m\u001b[0m\n\u001b[0;32m--> 908\u001b[0;31m             \u001b[0maccessors\u001b[0m\u001b[0;34m[\u001b[0m\u001b[0mname\u001b[0m\u001b[0;34m]\u001b[0m\u001b[0;34m(\u001b[0m\u001b[0mname\u001b[0m\u001b[0;34m)\u001b[0m\u001b[0;34m\u001b[0m\u001b[0;34m\u001b[0m\u001b[0m\n\u001b[0m\u001b[1;32m    909\u001b[0m     \u001b[0;31m#\u001b[0m\u001b[0;34m\u001b[0m\u001b[0;34m\u001b[0m\u001b[0;34m\u001b[0m\u001b[0m\n",
      "\u001b[0;32m~/anaconda3/envs/venv2/lib/python3.7/site-packages/cffi/api.py\u001b[0m in \u001b[0;36maccessor_function\u001b[0;34m(name)\u001b[0m\n\u001b[1;32m    837\u001b[0m         \u001b[0mBType\u001b[0m \u001b[0;34m=\u001b[0m \u001b[0mffi\u001b[0m\u001b[0;34m.\u001b[0m\u001b[0m_get_cached_btype\u001b[0m\u001b[0;34m(\u001b[0m\u001b[0mtp\u001b[0m\u001b[0;34m)\u001b[0m\u001b[0;34m\u001b[0m\u001b[0;34m\u001b[0m\u001b[0m\n\u001b[0;32m--> 838\u001b[0;31m         \u001b[0mvalue\u001b[0m \u001b[0;34m=\u001b[0m \u001b[0mbackendlib\u001b[0m\u001b[0;34m.\u001b[0m\u001b[0mload_function\u001b[0m\u001b[0;34m(\u001b[0m\u001b[0mBType\u001b[0m\u001b[0;34m,\u001b[0m \u001b[0mname\u001b[0m\u001b[0;34m)\u001b[0m\u001b[0;34m\u001b[0m\u001b[0;34m\u001b[0m\u001b[0m\n\u001b[0m\u001b[1;32m    839\u001b[0m         \u001b[0mlibrary\u001b[0m\u001b[0;34m.\u001b[0m\u001b[0m__dict__\u001b[0m\u001b[0;34m[\u001b[0m\u001b[0mname\u001b[0m\u001b[0;34m]\u001b[0m \u001b[0;34m=\u001b[0m \u001b[0mvalue\u001b[0m\u001b[0;34m\u001b[0m\u001b[0;34m\u001b[0m\u001b[0m\n",
      "\u001b[0;31mAttributeError\u001b[0m: function/symbol 'SHA256_init' not found in library '/home/swopnil/anaconda3/envs/venv2/lib/python3.7/site-packages/Crypto/Util/../Hash/_SHA256.cpython-37m-x86_64-linux-gnu.so': /home/swopnil/anaconda3/envs/venv2/lib/python3.7/site-packages/Crypto/Util/../Hash/_SHA256.cpython-37m-x86_64-linux-gnu.so: undefined symbol: SHA256_init",
      "\nDuring handling of the above exception, another exception occurred:\n",
      "\u001b[0;31mKeyStoreException\u001b[0m                         Traceback (most recent call last)",
      "\u001b[0;32m<ipython-input-4-58b58b33c027>\u001b[0m in \u001b[0;36m<module>\u001b[0;34m\u001b[0m\n\u001b[0;32m----> 1\u001b[0;31m \u001b[0mwallet\u001b[0m \u001b[0;34m=\u001b[0m \u001b[0mKeyWallet\u001b[0m\u001b[0;34m.\u001b[0m\u001b[0mload\u001b[0m\u001b[0;34m(\u001b[0m\u001b[0;34m\"./iconkeystore\"\u001b[0m\u001b[0;34m,\u001b[0m \u001b[0;34m\"@icon111\"\u001b[0m\u001b[0;34m)\u001b[0m\u001b[0;34m\u001b[0m\u001b[0;34m\u001b[0m\u001b[0m\n\u001b[0m\u001b[1;32m      2\u001b[0m \u001b[0mwallet2\u001b[0m \u001b[0;34m=\u001b[0m \u001b[0mKeyWallet\u001b[0m\u001b[0;34m.\u001b[0m\u001b[0mload\u001b[0m\u001b[0;34m(\u001b[0m\u001b[0;34m\"./iconkeystore2\"\u001b[0m\u001b[0;34m,\u001b[0m \u001b[0;34m\"@icon222\"\u001b[0m\u001b[0;34m)\u001b[0m\u001b[0;34m\u001b[0m\u001b[0;34m\u001b[0m\u001b[0m\n",
      "\u001b[0;32m~/anaconda3/envs/venv2/lib/python3.7/site-packages/multipledispatch/dispatcher.py\u001b[0m in \u001b[0;36m__call__\u001b[0;34m(self, *args, **kwargs)\u001b[0m\n\u001b[1;32m    276\u001b[0m             \u001b[0mself\u001b[0m\u001b[0;34m.\u001b[0m\u001b[0m_cache\u001b[0m\u001b[0;34m[\u001b[0m\u001b[0mtypes\u001b[0m\u001b[0;34m]\u001b[0m \u001b[0;34m=\u001b[0m \u001b[0mfunc\u001b[0m\u001b[0;34m\u001b[0m\u001b[0;34m\u001b[0m\u001b[0m\n\u001b[1;32m    277\u001b[0m         \u001b[0;32mtry\u001b[0m\u001b[0;34m:\u001b[0m\u001b[0;34m\u001b[0m\u001b[0;34m\u001b[0m\u001b[0m\n\u001b[0;32m--> 278\u001b[0;31m             \u001b[0;32mreturn\u001b[0m \u001b[0mfunc\u001b[0m\u001b[0;34m(\u001b[0m\u001b[0;34m*\u001b[0m\u001b[0margs\u001b[0m\u001b[0;34m,\u001b[0m \u001b[0;34m**\u001b[0m\u001b[0mkwargs\u001b[0m\u001b[0;34m)\u001b[0m\u001b[0;34m\u001b[0m\u001b[0;34m\u001b[0m\u001b[0m\n\u001b[0m\u001b[1;32m    279\u001b[0m \u001b[0;34m\u001b[0m\u001b[0m\n\u001b[1;32m    280\u001b[0m         \u001b[0;32mexcept\u001b[0m \u001b[0mMDNotImplementedError\u001b[0m\u001b[0;34m:\u001b[0m\u001b[0;34m\u001b[0m\u001b[0;34m\u001b[0m\u001b[0m\n",
      "\u001b[0;32m~/anaconda3/envs/venv2/lib/python3.7/site-packages/iconsdk/wallet/wallet.py\u001b[0m in \u001b[0;36mload\u001b[0;34m(file_path, password)\u001b[0m\n\u001b[1;32m    117\u001b[0m             logger.exception(\n\u001b[1;32m    118\u001b[0m                 f\"Raised KeyStoreException while loading the wallet by the keystore file. Error message: {e}\")\n\u001b[0;32m--> 119\u001b[0;31m             \u001b[0;32mraise\u001b[0m \u001b[0mKeyStoreException\u001b[0m\u001b[0;34m(\u001b[0m\u001b[0;34mf'keystore file error.{e}'\u001b[0m\u001b[0;34m)\u001b[0m\u001b[0;34m\u001b[0m\u001b[0;34m\u001b[0m\u001b[0m\n\u001b[0m\u001b[1;32m    120\u001b[0m \u001b[0;34m\u001b[0m\u001b[0m\n\u001b[1;32m    121\u001b[0m     \u001b[0;32mdef\u001b[0m \u001b[0mstore\u001b[0m\u001b[0;34m(\u001b[0m\u001b[0mself\u001b[0m\u001b[0;34m,\u001b[0m \u001b[0mfile_path\u001b[0m\u001b[0;34m:\u001b[0m \u001b[0mstr\u001b[0m\u001b[0;34m,\u001b[0m \u001b[0mpassword\u001b[0m\u001b[0;34m:\u001b[0m \u001b[0mstr\u001b[0m\u001b[0;34m)\u001b[0m\u001b[0;34m:\u001b[0m\u001b[0;34m\u001b[0m\u001b[0;34m\u001b[0m\u001b[0m\n",
      "\u001b[0;31mKeyStoreException\u001b[0m: keystore file error.function/symbol 'SHA256_init' not found in library '/home/swopnil/anaconda3/envs/venv2/lib/python3.7/site-packages/Crypto/Util/../Hash/_SHA256.cpython-37m-x86_64-linux-gnu.so': /home/swopnil/anaconda3/envs/venv2/lib/python3.7/site-packages/Crypto/Util/../Hash/_SHA256.cpython-37m-x86_64-linux-gnu.so: undefined symbol: SHA256_init (Key store error)"
     ]
    }
   ],
   "source": [
    "wallet = KeyWallet.load(\"./iconkeystore\", \"@icon111\")\n",
    "wallet2 = KeyWallet.load(\"./iconkeystore2\", \"@icon222\")"
   ]
  },
  {
   "cell_type": "markdown",
   "metadata": {},
   "source": [
    "### Load wallet using Wallet Private Key"
   ]
  },
  {
   "cell_type": "code",
   "execution_count": 36,
   "metadata": {},
   "outputs": [
    {
     "data": {
      "text/plain": [
       "'hx3355dbb0edcdf31b3f36e152929da4baf44c94b5'"
      ]
     },
     "execution_count": 36,
     "metadata": {},
     "output_type": "execute_result"
    }
   ],
   "source": [
    "private=\"627be14d9a6cf1c75c38f0ef26be187f41f1ff8c7ed2767aa6aac31ecbca4b4a\"\n",
    "private2=\"0x0f8b2a777de9f7c118313383f579aff86924a34cee96877b45ebe64eb999dbb3\"\n",
    "deploy_wallet1 = KeyWallet.load(bytes.fromhex(private))\n",
    "deploy_wallet2 = KeyWallet.load(bytes.fromhex(private2))\n",
    "\n",
    "wallet1 = deploy_wallet1.get_address()\n",
    "wallet2 = deploy_wallet2.get_address()\n",
    "wallet"
   ]
  },
  {
   "cell_type": "markdown",
   "metadata": {},
   "source": [
    "# Deploying Contract"
   ]
  },
  {
   "cell_type": "code",
   "execution_count": 37,
   "metadata": {},
   "outputs": [
    {
     "name": "stderr",
     "output_type": "stream",
     "text": [
      "Raised JSONRPCException while returning the custom response. Error message: {'code': -32602, 'message': 'Pending transaction'}\n"
     ]
    },
    {
     "name": "stdout",
     "output_type": "stream",
     "text": [
      "{'code': -32602, 'message': 'Pending transaction'} (Json rpc error), Retrying in 1 seconds...\n"
     ]
    },
    {
     "name": "stderr",
     "output_type": "stream",
     "text": [
      "Raised JSONRPCException while returning the custom response. Error message: {'code': -32602, 'message': 'Pending transaction'}\n"
     ]
    },
    {
     "name": "stdout",
     "output_type": "stream",
     "text": [
      "{'code': -32602, 'message': 'Pending transaction'} (Json rpc error), Retrying in 2 seconds...\n"
     ]
    },
    {
     "data": {
      "text/plain": [
       "{'txHash': '0x699bba3b25b0e8e1f395e3fbe6ceb605265a993a4248927049b3fb519d40d5db',\n",
       " 'blockHeight': 13164797,\n",
       " 'blockHash': '0xd82a05ae3043d78cb5ce071a6067e201fb4b6c8cccbc910f5cdadfad92649de0',\n",
       " 'txIndex': 1,\n",
       " 'to': 'cx0000000000000000000000000000000000000000',\n",
       " 'scoreAddress': 'cxf593381fa1f44bf16f573cb00f077d2988799b2e',\n",
       " 'stepUsed': 1023092000,\n",
       " 'stepPrice': 10000000000,\n",
       " 'cumulativeStepUsed': 1023092000,\n",
       " 'eventLogs': [],\n",
       " 'logsBloom': b'\\x00\\x00\\x00\\x00\\x00\\x00\\x00\\x00\\x00\\x00\\x00\\x00\\x00\\x00\\x00\\x00\\x00\\x00\\x00\\x00\\x00\\x00\\x00\\x00\\x00\\x00\\x00\\x00\\x00\\x00\\x00\\x00\\x00\\x00\\x00\\x00\\x00\\x00\\x00\\x00\\x00\\x00\\x00\\x00\\x00\\x00\\x00\\x00\\x00\\x00\\x00\\x00\\x00\\x00\\x00\\x00\\x00\\x00\\x00\\x00\\x00\\x00\\x00\\x00\\x00\\x00\\x00\\x00\\x00\\x00\\x00\\x00\\x00\\x00\\x00\\x00\\x00\\x00\\x00\\x00\\x00\\x00\\x00\\x00\\x00\\x00\\x00\\x00\\x00\\x00\\x00\\x00\\x00\\x00\\x00\\x00\\x00\\x00\\x00\\x00\\x00\\x00\\x00\\x00\\x00\\x00\\x00\\x00\\x00\\x00\\x00\\x00\\x00\\x00\\x00\\x00\\x00\\x00\\x00\\x00\\x00\\x00\\x00\\x00\\x00\\x00\\x00\\x00\\x00\\x00\\x00\\x00\\x00\\x00\\x00\\x00\\x00\\x00\\x00\\x00\\x00\\x00\\x00\\x00\\x00\\x00\\x00\\x00\\x00\\x00\\x00\\x00\\x00\\x00\\x00\\x00\\x00\\x00\\x00\\x00\\x00\\x00\\x00\\x00\\x00\\x00\\x00\\x00\\x00\\x00\\x00\\x00\\x00\\x00\\x00\\x00\\x00\\x00\\x00\\x00\\x00\\x00\\x00\\x00\\x00\\x00\\x00\\x00\\x00\\x00\\x00\\x00\\x00\\x00\\x00\\x00\\x00\\x00\\x00\\x00\\x00\\x00\\x00\\x00\\x00\\x00\\x00\\x00\\x00\\x00\\x00\\x00\\x00\\x00\\x00\\x00\\x00\\x00\\x00\\x00\\x00\\x00\\x00\\x00\\x00\\x00\\x00\\x00\\x00\\x00\\x00\\x00\\x00\\x00\\x00\\x00\\x00\\x00\\x00\\x00\\x00\\x00\\x00\\x00\\x00\\x00\\x00\\x00\\x00\\x00\\x00\\x00\\x00\\x00\\x00\\x00',\n",
       " 'status': 1}"
      ]
     },
     "execution_count": 37,
     "metadata": {},
     "output_type": "execute_result"
    }
   ],
   "source": [
    "params = {}\n",
    "\n",
    "deploy_transaction = DeployTransactionBuilder()\\\n",
    "    .from_(wallet)\\\n",
    "    .to(GOVERNANCE_ADDRESS)\\\n",
    "    .nid(NID)\\\n",
    "    .nonce(NONCE)\\\n",
    "    .content_type(\"application/zip\")\\\n",
    "    .content(gen_deploy_data_content(\"helloworld\"))\\\n",
    "    .params(params)\\\n",
    "    .build()\n",
    "\n",
    "estimate_step = icon_service.estimate_step(deploy_transaction)\n",
    "step_limit = estimate_step + 100000\n",
    "signed_transaction = SignedTransaction(deploy_transaction, deploy_wallet, step_limit)\n",
    "\n",
    "\n",
    "tx_hash = icon_service.send_transaction(signed_transaction)\n",
    "\n",
    "get_tx_result(tx_hash)"
   ]
  },
  {
   "cell_type": "code",
   "execution_count": 6,
   "metadata": {},
   "outputs": [],
   "source": [
    "contract_address = \"cxf593381fa1f44bf16f573cb00f077d2988799b2e\""
   ]
  },
  {
   "cell_type": "markdown",
   "metadata": {},
   "source": [
    "### Contract Update"
   ]
  },
  {
   "cell_type": "code",
   "execution_count": 14,
   "metadata": {},
   "outputs": [
    {
     "ename": "AttributeError",
     "evalue": "'str' object has no attribute 'sign'",
     "output_type": "error",
     "traceback": [
      "\u001b[0;31m---------------------------------------------------------------------------\u001b[0m",
      "\u001b[0;31mAttributeError\u001b[0m                            Traceback (most recent call last)",
      "\u001b[0;32m<ipython-input-14-6f24f5cc3b75>\u001b[0m in \u001b[0;36m<module>\u001b[0;34m\u001b[0m\n\u001b[1;32m     12\u001b[0m \u001b[0mestimate_step\u001b[0m \u001b[0;34m=\u001b[0m \u001b[0micon_service\u001b[0m\u001b[0;34m.\u001b[0m\u001b[0mestimate_step\u001b[0m\u001b[0;34m(\u001b[0m\u001b[0mtransaction\u001b[0m\u001b[0;34m)\u001b[0m\u001b[0;34m\u001b[0m\u001b[0;34m\u001b[0m\u001b[0m\n\u001b[1;32m     13\u001b[0m \u001b[0mstep_limit\u001b[0m \u001b[0;34m=\u001b[0m \u001b[0mestimate_step\u001b[0m \u001b[0;34m+\u001b[0m \u001b[0;36m100000\u001b[0m\u001b[0;34m\u001b[0m\u001b[0;34m\u001b[0m\u001b[0m\n\u001b[0;32m---> 14\u001b[0;31m \u001b[0msigned_transaction\u001b[0m \u001b[0;34m=\u001b[0m \u001b[0mSignedTransaction\u001b[0m\u001b[0;34m(\u001b[0m\u001b[0mtransaction\u001b[0m\u001b[0;34m,\u001b[0m \u001b[0mwallet\u001b[0m\u001b[0;34m,\u001b[0m\u001b[0mstep_limit\u001b[0m\u001b[0;34m)\u001b[0m\u001b[0;34m\u001b[0m\u001b[0;34m\u001b[0m\u001b[0m\n\u001b[0m\u001b[1;32m     15\u001b[0m \u001b[0;34m\u001b[0m\u001b[0m\n\u001b[1;32m     16\u001b[0m \u001b[0mtx_hash\u001b[0m \u001b[0;34m=\u001b[0m \u001b[0micon_service\u001b[0m\u001b[0;34m.\u001b[0m\u001b[0msend_transaction\u001b[0m\u001b[0;34m(\u001b[0m\u001b[0msigned_transaction\u001b[0m\u001b[0;34m)\u001b[0m\u001b[0;34m\u001b[0m\u001b[0;34m\u001b[0m\u001b[0m\n",
      "\u001b[0;32m~/anaconda3/envs/venv2/lib/python3.7/site-packages/iconsdk/signed_transaction.py\u001b[0m in \u001b[0;36m__init__\u001b[0;34m(self, transaction, wallet, step_limit)\u001b[0m\n\u001b[1;32m     41\u001b[0m         \u001b[0mself\u001b[0m\u001b[0;34m.\u001b[0m\u001b[0m__signed_transaction_dict\u001b[0m \u001b[0;34m=\u001b[0m \u001b[0mself\u001b[0m\u001b[0;34m.\u001b[0m\u001b[0mconvert_tx_to_jsonrpc_request\u001b[0m\u001b[0;34m(\u001b[0m\u001b[0mtransaction\u001b[0m\u001b[0;34m,\u001b[0m \u001b[0mwallet\u001b[0m\u001b[0;34m)\u001b[0m\u001b[0;34m\u001b[0m\u001b[0;34m\u001b[0m\u001b[0m\n\u001b[1;32m     42\u001b[0m         \u001b[0mmessage_hash\u001b[0m \u001b[0;34m=\u001b[0m \u001b[0msha3_256\u001b[0m\u001b[0;34m(\u001b[0m\u001b[0mserialize\u001b[0m\u001b[0;34m(\u001b[0m\u001b[0mself\u001b[0m\u001b[0;34m.\u001b[0m\u001b[0m__signed_transaction_dict\u001b[0m\u001b[0;34m)\u001b[0m\u001b[0;34m)\u001b[0m\u001b[0;34m.\u001b[0m\u001b[0mdigest\u001b[0m\u001b[0;34m(\u001b[0m\u001b[0;34m)\u001b[0m\u001b[0;34m\u001b[0m\u001b[0;34m\u001b[0m\u001b[0m\n\u001b[0;32m---> 43\u001b[0;31m         \u001b[0msignature\u001b[0m \u001b[0;34m=\u001b[0m \u001b[0mwallet\u001b[0m\u001b[0;34m.\u001b[0m\u001b[0msign\u001b[0m\u001b[0;34m(\u001b[0m\u001b[0mmessage_hash\u001b[0m\u001b[0;34m)\u001b[0m\u001b[0;34m\u001b[0m\u001b[0;34m\u001b[0m\u001b[0m\n\u001b[0m\u001b[1;32m     44\u001b[0m         \u001b[0mself\u001b[0m\u001b[0;34m.\u001b[0m\u001b[0m__signed_transaction_dict\u001b[0m\u001b[0;34m[\u001b[0m\u001b[0;34m\"signature\"\u001b[0m\u001b[0;34m]\u001b[0m \u001b[0;34m=\u001b[0m \u001b[0mb64encode\u001b[0m\u001b[0;34m(\u001b[0m\u001b[0msignature\u001b[0m\u001b[0;34m)\u001b[0m\u001b[0;34m.\u001b[0m\u001b[0mdecode\u001b[0m\u001b[0;34m(\u001b[0m\u001b[0;34m)\u001b[0m\u001b[0;34m\u001b[0m\u001b[0;34m\u001b[0m\u001b[0m\n\u001b[1;32m     45\u001b[0m \u001b[0;34m\u001b[0m\u001b[0m\n",
      "\u001b[0;31mAttributeError\u001b[0m: 'str' object has no attribute 'sign'"
     ]
    }
   ],
   "source": [
    "# Generates an instance of transaction for deploying score\n",
    "\n",
    "transaction = DeployTransactionBuilder() \\\n",
    "            .from_(deploy_wallet.get_address()) \\\n",
    "            .to(contract_address) \\\n",
    "            .nid(NID) \\\n",
    "            .nonce(100) \\\n",
    "            .content_type(\"application/zip\") \\\n",
    "            .content(gen_deploy_data_content(\"helloworld\")) \\\n",
    "            .build()\n",
    "\n",
    "estimate_step = icon_service.estimate_step(transaction)\n",
    "step_limit = estimate_step + 100000\n",
    "signed_transaction = SignedTransaction(transaction, wallet,step_limit)\n",
    "\n",
    "tx_hash = icon_service.send_transaction(signed_transaction)\n",
    "print(tx_hash)\n",
    "\n",
    "get_tx_result(tx_hash)"
   ]
  }
 ],
 "metadata": {
  "kernelspec": {
   "display_name": "Python 3",
   "language": "python",
   "name": "python3"
  },
  "language_info": {
   "codemirror_mode": {
    "name": "ipython",
    "version": 3
   },
   "file_extension": ".py",
   "mimetype": "text/x-python",
   "name": "python",
   "nbconvert_exporter": "python",
   "pygments_lexer": "ipython3",
   "version": "3.7.7"
  }
 },
 "nbformat": 4,
 "nbformat_minor": 4
}
